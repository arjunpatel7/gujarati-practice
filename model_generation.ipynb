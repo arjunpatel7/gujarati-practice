{
 "cells": [
  {
   "cell_type": "code",
   "execution_count": 101,
   "metadata": {},
   "outputs": [],
   "source": [
    "import pandas as pd\n",
    "import numpy as np\n",
    "import tensorflow as tf"
   ]
  },
  {
   "cell_type": "code",
   "execution_count": 102,
   "metadata": {},
   "outputs": [
    {
     "name": "stdout",
     "output_type": "stream",
     "text": [
      "Found 3369 files belonging to 34 classes.\n",
      "Using 2696 files for training.\n",
      "Found 3369 files belonging to 34 classes.\n",
      "Using 673 files for validation.\n"
     ]
    }
   ],
   "source": [
    "train_ds = tf.keras.utils.image_dataset_from_directory(\"./data/akshar\",\n",
    "                                                       subset = \"training\",\n",
    "                                                       validation_split=0.2,\n",
    "                                                       shuffle=True,\n",
    "                                                       image_size = (28, 28),\n",
    "                                                       color_mode=\"grayscale\",\n",
    "                                                      seed = 777)\n",
    "\n",
    "val_ds = tf.keras.utils.image_dataset_from_directory(\"./data/akshar\",\n",
    "                                                         validation_split = 0.2,\n",
    "                                                     image_size = (28, 28),\n",
    "                                                     shuffle=True,\n",
    "                                                     color_mode = \"grayscale\",\n",
    "                                                     subset=\"validation\",\n",
    "  seed=777)\n",
    "class_names = train_ds.class_names"
   ]
  },
  {
   "cell_type": "code",
   "execution_count": 103,
   "metadata": {},
   "outputs": [
    {
     "name": "stdout",
     "output_type": "stream",
     "text": [
      "['ALA', 'ANA', 'B', 'BHA', 'CH', 'CHH', 'D', 'DA', 'DH', 'DHA', 'F', 'G', 'GH', 'GNA', 'H', 'J', 'JH', 'K', 'KH', 'KSH', 'L', 'M', 'N', 'P', 'R', 'S', 'SH', 'SHH', 'T', 'TA', 'TH', 'THA', 'V', 'Y']\n"
     ]
    }
   ],
   "source": [
    "num_classes = len(train_ds.class_names)\n",
    "print(train_ds.class_names)\n",
    "textfile = open(\"class_names.txt\", \"w\")\n",
    "for element in class_names:\n",
    "    textfile.write(element + \"\\n\")\n",
    "textfile.close()"
   ]
  },
  {
   "cell_type": "code",
   "execution_count": 104,
   "metadata": {},
   "outputs": [
    {
     "name": "stdout",
     "output_type": "stream",
     "text": [
      "WARNING:tensorflow:AutoGraph could not transform <function <lambda> at 0x7fc8cb230cb0> and will run it as-is.\n",
      "Please report this to the TensorFlow team. When filing the bug, set the verbosity to 10 (on Linux, `export AUTOGRAPH_VERBOSITY=10`) and attach the full output.\n",
      "Cause: 'arguments' object has no attribute 'posonlyargs'\n",
      "To silence this warning, decorate the function with @tf.autograph.experimental.do_not_convert\n"
     ]
    },
    {
     "name": "stderr",
     "output_type": "stream",
     "text": [
      "WARNING:tensorflow:AutoGraph could not transform <function <lambda> at 0x7fc8cb230cb0> and will run it as-is.\n",
      "Please report this to the TensorFlow team. When filing the bug, set the verbosity to 10 (on Linux, `export AUTOGRAPH_VERBOSITY=10`) and attach the full output.\n",
      "Cause: 'arguments' object has no attribute 'posonlyargs'\n",
      "To silence this warning, decorate the function with @tf.autograph.experimental.do_not_convert\n"
     ]
    },
    {
     "name": "stdout",
     "output_type": "stream",
     "text": [
      "WARNING: AutoGraph could not transform <function <lambda> at 0x7fc8cb230cb0> and will run it as-is.\n",
      "Please report this to the TensorFlow team. When filing the bug, set the verbosity to 10 (on Linux, `export AUTOGRAPH_VERBOSITY=10`) and attach the full output.\n",
      "Cause: 'arguments' object has no attribute 'posonlyargs'\n",
      "To silence this warning, decorate the function with @tf.autograph.experimental.do_not_convert\n",
      "WARNING:tensorflow:AutoGraph could not transform <function <lambda> at 0x7fc8cb230d40> and will run it as-is.\n",
      "Please report this to the TensorFlow team. When filing the bug, set the verbosity to 10 (on Linux, `export AUTOGRAPH_VERBOSITY=10`) and attach the full output.\n",
      "Cause: 'arguments' object has no attribute 'posonlyargs'\n",
      "To silence this warning, decorate the function with @tf.autograph.experimental.do_not_convert\n"
     ]
    },
    {
     "name": "stderr",
     "output_type": "stream",
     "text": [
      "WARNING:tensorflow:AutoGraph could not transform <function <lambda> at 0x7fc8cb230d40> and will run it as-is.\n",
      "Please report this to the TensorFlow team. When filing the bug, set the verbosity to 10 (on Linux, `export AUTOGRAPH_VERBOSITY=10`) and attach the full output.\n",
      "Cause: 'arguments' object has no attribute 'posonlyargs'\n",
      "To silence this warning, decorate the function with @tf.autograph.experimental.do_not_convert\n"
     ]
    },
    {
     "name": "stdout",
     "output_type": "stream",
     "text": [
      "WARNING: AutoGraph could not transform <function <lambda> at 0x7fc8cb230d40> and will run it as-is.\n",
      "Please report this to the TensorFlow team. When filing the bug, set the verbosity to 10 (on Linux, `export AUTOGRAPH_VERBOSITY=10`) and attach the full output.\n",
      "Cause: 'arguments' object has no attribute 'posonlyargs'\n",
      "To silence this warning, decorate the function with @tf.autograph.experimental.do_not_convert\n"
     ]
    }
   ],
   "source": [
    "\n",
    "\n",
    "AUTOTUNE = tf.data.AUTOTUNE\n",
    "\n",
    "train_ds = train_ds.cache().shuffle(1000).prefetch(buffer_size=AUTOTUNE)\n",
    "val_ds = val_ds.cache().shuffle(1000).prefetch(buffer_size=AUTOTUNE)\n",
    "\n",
    "\n",
    "\n",
    "# need to add a layer that converts everything to grayscale!\n",
    "normalization_layer = tf.keras.layers.Rescaling(1./255)\n",
    "normalized_train_ds = train_ds.map(lambda x, y: (normalization_layer(x), y))\n",
    "normalized_val_ds = val_ds.map(lambda x, y: (normalization_layer(x), y))\n",
    "\n"
   ]
  },
  {
   "cell_type": "code",
   "execution_count": 105,
   "metadata": {},
   "outputs": [],
   "source": [
    "import tensorflow_hub as hub\n",
    "mobilenet_v2 = \"https://tfhub.dev/google/tf2-preview/mobilenet_v2/feature_vector/4\"\n",
    "feature_extractor_model = mobilenet_v2\n",
    "feature_extractor_layer = hub.KerasLayer(\n",
    "    feature_extractor_model,\n",
    "    input_shape=(224, 224, 3),\n",
    "    trainable=False)"
   ]
  },
  {
   "cell_type": "code",
   "execution_count": 106,
   "metadata": {},
   "outputs": [
    {
     "name": "stdout",
     "output_type": "stream",
     "text": [
      "Model: \"model_13\"\n",
      "_________________________________________________________________\n",
      " Layer (type)                Output Shape              Param #   \n",
      "=================================================================\n",
      " input_18 (InputLayer)       [(None, 28, 28, 1)]       0         \n",
      "                                                                 \n",
      " conv2d_19 (Conv2D)          (None, 27, 27, 4)         20        \n",
      "                                                                 \n",
      " max_pooling2d_13 (MaxPoolin  (None, 13, 13, 4)        0         \n",
      " g2D)                                                            \n",
      "                                                                 \n",
      " conv2d_20 (Conv2D)          (None, 13, 13, 2)         10        \n",
      "                                                                 \n",
      " max_pooling2d_14 (MaxPoolin  (None, 6, 6, 2)          0         \n",
      " g2D)                                                            \n",
      "                                                                 \n",
      " flatten_12 (Flatten)        (None, 72)                0         \n",
      "                                                                 \n",
      " dense_15 (Dense)            (None, 34)                2482      \n",
      "                                                                 \n",
      "=================================================================\n",
      "Total params: 2,512\n",
      "Trainable params: 2,512\n",
      "Non-trainable params: 0\n",
      "_________________________________________________________________\n"
     ]
    }
   ],
   "source": [
    "\n",
    "\n",
    "def create_simple_model():\n",
    "    x = tf.keras.Input((224, 224,3))\n",
    "    features = feature_extractor_layer(x)\n",
    "    d1 = tf.keras.layers.Dense(num_classes, activation = \"softmax\")(features)\n",
    "    return tf.keras.Model(x, d1)\n",
    "\n",
    "def create_from_scratch():\n",
    "    inputs = tf.keras.Input((28, 28, 1))\n",
    "    x = tf.keras.layers.Conv2D(4, 2)(inputs)\n",
    "    x = tf.keras.layers.MaxPooling2D()(x)\n",
    "    x = tf.keras.layers.Conv2D(2, 1)(x)\n",
    "    x = tf.keras.layers.MaxPooling2D()(x)\n",
    "    x = tf.keras.layers.Flatten()(x)\n",
    "    out = tf.keras.layers.Dense(num_classes, activation = \"softmax\")(x)\n",
    "    return tf.keras.Model(inputs, out)\n",
    "\n",
    "#model = create_simple_model()\n",
    "model = create_from_scratch()\n",
    "model.summary()\n"
   ]
  },
  {
   "cell_type": "code",
   "execution_count": 107,
   "metadata": {},
   "outputs": [],
   "source": [
    "import datetime \n",
    "model.compile(\n",
    "  optimizer=tf.keras.optimizers.Adam(),\n",
    "  loss=tf.keras.losses.SparseCategoricalCrossentropy(),\n",
    "  metrics=['acc'])\n",
    "\n",
    "log_dir = \"logs/fit/\" + datetime.datetime.now().strftime(\"%Y%m%d-%H%M%S\")\n",
    "tensorboard_callback = tf.keras.callbacks.TensorBoard(\n",
    "    log_dir=log_dir,\n",
    "    histogram_freq=1)"
   ]
  },
  {
   "cell_type": "code",
   "execution_count": null,
   "metadata": {},
   "outputs": [
    {
     "name": "stdout",
     "output_type": "stream",
     "text": [
      "Epoch 1/100\n",
      "85/85 [==============================] - 0s 4ms/step - loss: 3.4705 - acc: 0.3646 - val_loss: 3.3174 - val_acc: 0.3848\n",
      "Epoch 2/100\n",
      "85/85 [==============================] - 0s 4ms/step - loss: 3.2298 - acc: 0.3861 - val_loss: 3.2071 - val_acc: 0.3967\n",
      "Epoch 3/100\n",
      "85/85 [==============================] - 0s 4ms/step - loss: 2.9596 - acc: 0.4203 - val_loss: 2.8248 - val_acc: 0.4294\n",
      "Epoch 4/100\n",
      "85/85 [==============================] - 0s 4ms/step - loss: 2.7861 - acc: 0.4340 - val_loss: 2.6646 - val_acc: 0.4443\n",
      "Epoch 5/100\n",
      "85/85 [==============================] - 0s 4ms/step - loss: 2.6841 - acc: 0.4347 - val_loss: 2.6010 - val_acc: 0.4086\n",
      "Epoch 6/100\n",
      "85/85 [==============================] - 0s 4ms/step - loss: 2.4932 - acc: 0.4488 - val_loss: 2.3947 - val_acc: 0.4502\n",
      "Epoch 7/100\n",
      "85/85 [==============================] - 0s 4ms/step - loss: 2.3224 - acc: 0.4733 - val_loss: 2.3683 - val_acc: 0.4502\n",
      "Epoch 8/100\n",
      "85/85 [==============================] - 0s 4ms/step - loss: 2.1608 - acc: 0.4896 - val_loss: 2.1859 - val_acc: 0.4517\n",
      "Epoch 9/100\n",
      "85/85 [==============================] - 0s 4ms/step - loss: 2.0425 - acc: 0.4952 - val_loss: 2.0036 - val_acc: 0.5007\n",
      "Epoch 10/100\n",
      "85/85 [==============================] - 0s 4ms/step - loss: 1.9686 - acc: 0.5122 - val_loss: 1.9748 - val_acc: 0.4829\n",
      "Epoch 11/100\n",
      "85/85 [==============================] - 0s 4ms/step - loss: 1.8657 - acc: 0.5304 - val_loss: 1.7983 - val_acc: 0.5141\n",
      "Epoch 12/100\n",
      "85/85 [==============================] - 0s 4ms/step - loss: 1.8415 - acc: 0.5319 - val_loss: 1.7119 - val_acc: 0.5394\n",
      "Epoch 13/100\n",
      "85/85 [==============================] - 0s 4ms/step - loss: 1.7457 - acc: 0.5516 - val_loss: 1.6470 - val_acc: 0.5245\n",
      "Epoch 14/100\n",
      "85/85 [==============================] - 0s 4ms/step - loss: 1.6552 - acc: 0.5605 - val_loss: 1.5695 - val_acc: 0.5557\n",
      "Epoch 15/100\n",
      "85/85 [==============================] - 0s 4ms/step - loss: 1.6007 - acc: 0.5705 - val_loss: 1.5302 - val_acc: 0.5691\n",
      "Epoch 16/100\n",
      "85/85 [==============================] - 0s 4ms/step - loss: 1.5320 - acc: 0.5886 - val_loss: 1.4912 - val_acc: 0.5840\n",
      "Epoch 17/100\n",
      "85/85 [==============================] - 0s 4ms/step - loss: 1.5430 - acc: 0.5853 - val_loss: 1.4704 - val_acc: 0.6048\n",
      "Epoch 18/100\n",
      "85/85 [==============================] - 0s 4ms/step - loss: 1.4451 - acc: 0.6161 - val_loss: 1.4090 - val_acc: 0.5795\n",
      "Epoch 19/100\n",
      "85/85 [==============================] - 0s 4ms/step - loss: 1.4033 - acc: 0.6183 - val_loss: 1.5444 - val_acc: 0.5572\n",
      "Epoch 20/100\n",
      "85/85 [==============================] - 0s 4ms/step - loss: 1.3522 - acc: 0.6276 - val_loss: 1.3448 - val_acc: 0.6300\n",
      "Epoch 21/100\n",
      "85/85 [==============================] - 0s 4ms/step - loss: 1.3367 - acc: 0.6354 - val_loss: 1.3142 - val_acc: 0.6196\n",
      "Epoch 22/100\n",
      "85/85 [==============================] - 0s 4ms/step - loss: 1.2906 - acc: 0.6484 - val_loss: 1.2196 - val_acc: 0.6597\n",
      "Epoch 23/100\n",
      "85/85 [==============================] - 0s 4ms/step - loss: 1.2325 - acc: 0.6654 - val_loss: 1.1836 - val_acc: 0.6612\n",
      "Epoch 24/100\n",
      "85/85 [==============================] - 0s 4ms/step - loss: 1.1820 - acc: 0.6784 - val_loss: 1.2376 - val_acc: 0.6642\n",
      "Epoch 25/100\n",
      "85/85 [==============================] - 0s 4ms/step - loss: 1.1586 - acc: 0.6792 - val_loss: 1.2212 - val_acc: 0.6374\n",
      "Epoch 26/100\n",
      "85/85 [==============================] - 0s 4ms/step - loss: 1.1524 - acc: 0.6858 - val_loss: 1.0701 - val_acc: 0.6895\n",
      "Epoch 27/100\n",
      "85/85 [==============================] - 0s 4ms/step - loss: 1.0948 - acc: 0.6984 - val_loss: 1.0324 - val_acc: 0.6790\n",
      "Epoch 28/100\n",
      "85/85 [==============================] - 0s 4ms/step - loss: 1.0508 - acc: 0.7073 - val_loss: 0.9791 - val_acc: 0.7103\n",
      "Epoch 29/100\n",
      "85/85 [==============================] - 0s 4ms/step - loss: 1.0528 - acc: 0.7111 - val_loss: 1.0137 - val_acc: 0.7132\n",
      "Epoch 30/100\n",
      "85/85 [==============================] - 0s 4ms/step - loss: 0.9919 - acc: 0.7233 - val_loss: 1.0243 - val_acc: 0.7058\n",
      "Epoch 31/100\n",
      "85/85 [==============================] - 0s 4ms/step - loss: 1.0058 - acc: 0.7214 - val_loss: 0.9052 - val_acc: 0.7429\n",
      "Epoch 32/100\n",
      "85/85 [==============================] - 0s 4ms/step - loss: 0.9766 - acc: 0.7292 - val_loss: 1.0226 - val_acc: 0.6999\n",
      "Epoch 33/100\n",
      "85/85 [==============================] - 0s 4ms/step - loss: 0.9283 - acc: 0.7459 - val_loss: 0.9130 - val_acc: 0.7207\n",
      "Epoch 34/100\n",
      "85/85 [==============================] - 0s 4ms/step - loss: 0.8926 - acc: 0.7530 - val_loss: 0.8760 - val_acc: 0.7281\n",
      "Epoch 35/100\n",
      "85/85 [==============================] - 0s 4ms/step - loss: 0.8601 - acc: 0.7622 - val_loss: 0.9425 - val_acc: 0.7370\n",
      "Epoch 36/100\n",
      "85/85 [==============================] - 0s 4ms/step - loss: 0.8404 - acc: 0.7648 - val_loss: 0.8956 - val_acc: 0.7578\n",
      "Epoch 37/100\n",
      "85/85 [==============================] - 0s 4ms/step - loss: 0.8123 - acc: 0.7659 - val_loss: 0.7898 - val_acc: 0.7771\n",
      "Epoch 38/100\n",
      "85/85 [==============================] - 0s 4ms/step - loss: 0.7986 - acc: 0.7752 - val_loss: 0.8099 - val_acc: 0.7682\n",
      "Epoch 39/100\n",
      "85/85 [==============================] - 0s 5ms/step - loss: 0.8066 - acc: 0.7760 - val_loss: 0.7702 - val_acc: 0.7608\n",
      "Epoch 40/100\n",
      "85/85 [==============================] - 0s 5ms/step - loss: 0.7578 - acc: 0.7793 - val_loss: 0.7470 - val_acc: 0.7741\n",
      "Epoch 41/100\n",
      "85/85 [==============================] - 0s 4ms/step - loss: 0.7642 - acc: 0.7904 - val_loss: 0.6625 - val_acc: 0.8158\n",
      "Epoch 42/100\n",
      "85/85 [==============================] - 0s 4ms/step - loss: 0.7256 - acc: 0.7945 - val_loss: 0.7064 - val_acc: 0.7860\n",
      "Epoch 43/100\n",
      "85/85 [==============================] - 0s 4ms/step - loss: 0.7287 - acc: 0.7864 - val_loss: 0.7194 - val_acc: 0.7905\n",
      "Epoch 44/100\n",
      "85/85 [==============================] - 0s 4ms/step - loss: 0.6843 - acc: 0.8016 - val_loss: 0.6903 - val_acc: 0.8039\n",
      "Epoch 45/100\n",
      "85/85 [==============================] - 0s 4ms/step - loss: 0.6423 - acc: 0.8238 - val_loss: 0.7346 - val_acc: 0.7949\n",
      "Epoch 46/100\n",
      "85/85 [==============================] - 0s 4ms/step - loss: 0.6683 - acc: 0.8027 - val_loss: 0.5985 - val_acc: 0.8395\n",
      "Epoch 47/100\n",
      "85/85 [==============================] - 0s 4ms/step - loss: 0.6308 - acc: 0.8338 - val_loss: 0.6266 - val_acc: 0.8202\n",
      "Epoch 48/100\n",
      "85/85 [==============================] - 0s 4ms/step - loss: 0.6181 - acc: 0.8253 - val_loss: 0.7190 - val_acc: 0.7682\n",
      "Epoch 49/100\n",
      "85/85 [==============================] - 0s 4ms/step - loss: 0.5954 - acc: 0.8264 - val_loss: 0.5925 - val_acc: 0.8470\n",
      "Epoch 50/100\n",
      "85/85 [==============================] - 0s 4ms/step - loss: 0.5561 - acc: 0.8412 - val_loss: 0.5128 - val_acc: 0.8663\n",
      "Epoch 51/100\n",
      "85/85 [==============================] - 0s 4ms/step - loss: 0.5237 - acc: 0.8579 - val_loss: 0.5322 - val_acc: 0.8484\n",
      "Epoch 52/100\n",
      "85/85 [==============================] - 0s 4ms/step - loss: 0.5102 - acc: 0.8587 - val_loss: 0.6053 - val_acc: 0.8202\n",
      "Epoch 53/100\n",
      "85/85 [==============================] - 0s 4ms/step - loss: 0.4963 - acc: 0.8642 - val_loss: 0.4980 - val_acc: 0.8544\n",
      "Epoch 54/100\n",
      "85/85 [==============================] - 0s 4ms/step - loss: 0.4831 - acc: 0.8676 - val_loss: 0.5590 - val_acc: 0.8262\n",
      "Epoch 55/100\n",
      "33/85 [==========>...................] - ETA: 0s - loss: 0.4802 - acc: 0.8672"
     ]
    }
   ],
   "source": [
    "NUM_EPOCHS = 100\n",
    "\n",
    "history = model.fit(train_ds,\n",
    "                    validation_data = val_ds,\n",
    "                    epochs=NUM_EPOCHS,\n",
    "                    callbacks=tensorboard_callback)"
   ]
  },
  {
   "cell_type": "code",
   "execution_count": null,
   "metadata": {},
   "outputs": [],
   "source": [
    "validation_preds = model.predict(val_ds)\n"
   ]
  },
  {
   "cell_type": "code",
   "execution_count": null,
   "metadata": {},
   "outputs": [],
   "source": [
    "validation_preds[0]"
   ]
  },
  {
   "cell_type": "code",
   "execution_count": null,
   "metadata": {},
   "outputs": [],
   "source": [
    "import matplotlib.pyplot as plt\n",
    "\n",
    "val_ds = tf.keras.utils.image_dataset_from_directory(\"./data/akshar\",\n",
    "                                                         validation_split = 0.2,\n",
    "                                                     image_size = (28, 28),\n",
    "                                                     shuffle=True,\n",
    "                                                     color_mode = \"grayscale\",\n",
    "                                                     subset=\"validation\",\n",
    "  seed=777)\n",
    "image_batch, label_batch = val_ds.as_numpy_iterator().next()\n",
    "vp = model.predict_on_batch(image_batch)\n"
   ]
  },
  {
   "cell_type": "code",
   "execution_count": null,
   "metadata": {},
   "outputs": [],
   "source": [
    "vp = tf.argmax(input=vp, axis=1)"
   ]
  },
  {
   "cell_type": "code",
   "execution_count": null,
   "metadata": {},
   "outputs": [],
   "source": [
    "\n",
    "plt.figure(figsize=(10, 10))\n",
    "for i in range(9):\n",
    "    print(class_names[label_batch[i]])\n",
    "    ax = plt.subplot(3, 3, i + 1)\n",
    "    plt.imshow(image_batch[i].astype(\"uint8\"))\n",
    "    plt.title(class_names[vp[i]])\n",
    "    plt.axis(\"off\")"
   ]
  },
  {
   "cell_type": "code",
   "execution_count": null,
   "metadata": {},
   "outputs": [],
   "source": [
    "vp"
   ]
  },
  {
   "cell_type": "code",
   "execution_count": null,
   "metadata": {},
   "outputs": [],
   "source": [
    "model.save(\"models/scratch_guju\")"
   ]
  },
  {
   "cell_type": "code",
   "execution_count": null,
   "metadata": {},
   "outputs": [],
   "source": []
  },
  {
   "cell_type": "code",
   "execution_count": null,
   "metadata": {},
   "outputs": [],
   "source": []
  },
  {
   "cell_type": "code",
   "execution_count": null,
   "metadata": {},
   "outputs": [],
   "source": []
  }
 ],
 "metadata": {
  "kernelspec": {
   "display_name": "Python 3 (ipykernel)",
   "language": "python",
   "name": "python3"
  },
  "language_info": {
   "codemirror_mode": {
    "name": "ipython",
    "version": 3
   },
   "file_extension": ".py",
   "mimetype": "text/x-python",
   "name": "python",
   "nbconvert_exporter": "python",
   "pygments_lexer": "ipython3",
   "version": "3.7.11"
  }
 },
 "nbformat": 4,
 "nbformat_minor": 4
}
